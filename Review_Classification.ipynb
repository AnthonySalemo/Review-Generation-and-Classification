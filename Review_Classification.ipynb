{
  "nbformat": 4,
  "nbformat_minor": 0,
  "metadata": {
    "colab": {
      "provenance": []
    },
    "kernelspec": {
      "name": "python3",
      "display_name": "Python 3"
    },
    "language_info": {
      "name": "python"
    }
  },
  "cells": [
    {
      "cell_type": "code",
      "execution_count": null,
      "metadata": {
        "colab": {
          "base_uri": "https://localhost:8080/"
        },
        "id": "CZHlFTDcM5g8",
        "outputId": "1f3b4678-035a-4ebe-e5ad-e16237d58b0b"
      },
      "outputs": [
        {
          "output_type": "stream",
          "name": "stderr",
          "text": [
            "[nltk_data] Downloading package stopwords to /root/nltk_data...\n",
            "[nltk_data]   Package stopwords is already up-to-date!\n"
          ]
        },
        {
          "output_type": "execute_result",
          "data": {
            "text/plain": [
              "True"
            ]
          },
          "metadata": {},
          "execution_count": 1
        }
      ],
      "source": [
        "import pandas as pd\n",
        "import re\n",
        "import numpy as np\n",
        "from collections import Counter, defaultdict\n",
        "import nltk\n",
        "from nltk.corpus import stopwords\n",
        "from nltk.util import ngrams\n",
        "import os\n",
        "import tensorflow as tf\n",
        "import torch\n",
        "from torch.nn.utils.rnn import pad_sequence\n",
        "from transformers import GPT2Tokenizer, GPT2LMHeadModel, AdamW, get_linear_schedule_with_warmup\n",
        "from torch.utils.data import DataLoader, TensorDataset\n",
        "from sklearn.model_selection import train_test_split\n",
        "from sklearn.pipeline import make_pipeline\n",
        "from sklearn.feature_extraction.text import TfidfVectorizer\n",
        "from sklearn.neural_network import MLPClassifier\n",
        "from sklearn.metrics import confusion_matrix\n",
        "from sklearn.metrics import f1_score\n",
        "from sklearn.linear_model import LogisticRegression\n",
        "from sklearn.metrics import classification_report\n",
        "from sklearn.feature_extraction.text import CountVectorizer\n",
        "from sklearn.ensemble import RandomForestClassifier\n",
        "import matplotlib.pyplot as plt\n",
        "import seaborn as sns\n",
        "from gensim.scripts.glove2word2vec import glove2word2vec\n",
        "from gensim.models import KeyedVectors\n",
        "import string\n",
        "nltk.download('stopwords')\n"
      ]
    },
    {
      "cell_type": "code",
      "source": [
        "from google.colab import drive\n",
        "drive.mount('/content/drive', force_remount = True)"
      ],
      "metadata": {
        "colab": {
          "base_uri": "https://localhost:8080/"
        },
        "id": "A2BROmhpM7Gr",
        "outputId": "8cb39eaf-f780-4825-9d10-33eda1999ab2"
      },
      "execution_count": null,
      "outputs": [
        {
          "output_type": "stream",
          "name": "stdout",
          "text": [
            "Mounted at /content/drive\n"
          ]
        }
      ]
    },
    {
      "cell_type": "code",
      "source": [
        "cd drive/MyDrive/"
      ],
      "metadata": {
        "colab": {
          "base_uri": "https://localhost:8080/"
        },
        "id": "hgxDus8jM8OG",
        "outputId": "4ef618a1-d144-431e-b00f-7304df26701f"
      },
      "execution_count": null,
      "outputs": [
        {
          "output_type": "stream",
          "name": "stdout",
          "text": [
            "/content/drive/MyDrive\n"
          ]
        }
      ]
    },
    {
      "cell_type": "code",
      "source": [
        "#Acquire the dataset from AllReviews csv file and clean it up to a usable form\n",
        "AllReviews = pd.read_csv('/content/drive/MyDrive/Colab Notebooks/AllReviews.csv')\n",
        "AllReviews = AllReviews.loc[(AllReviews[\"titleType\"] == \"tvMovie\")|(AllReviews[\"titleType\"] == \"movie\")]\n",
        "\n",
        "# Filter relevant columns and remove duplicates\n",
        "Reviews_Genres_Title = AllReviews[[\"Review\", \"genres\"]].drop_duplicates()\n",
        "# Remove rows with missing reviews\n",
        "Reviews_Genres_Title = Reviews_Genres_Title.dropna(subset=[\"Review\"])\n",
        "# Remove rows with undefined genres\n",
        "Reviews_Genres_Title = Reviews_Genres_Title[Reviews_Genres_Title[\"genres\"] != '\\\\N']\n",
        "\n",
        "# Copy for further processing\n",
        "Complete_Reviews = Reviews_Genres_Title.copy()\n",
        "# Convert reviews to lowercase\n",
        "Complete_Reviews['Review'] = Complete_Reviews['Review'].str.lower()\n",
        "# Replace periods and commas\n",
        "Complete_Reviews['Review'] = Complete_Reviews['Review'].str.replace('[,.]', ' ', regex=True)\n",
        "# Remove newlines\n",
        "Complete_Reviews['Review'] = Complete_Reviews['Review'].str.replace('\\n', '', regex=False)\n",
        "# Remove HTML tags\n",
        "Complete_Reviews['Review'] = Complete_Reviews['Review'].str.replace('<[^>]+>', '', regex=True)\n",
        "# Remove non-alphanumeric characters\n",
        "Complete_Reviews['Review'] = Complete_Reviews['Review'].str.replace('[^A-Za-z0-9 ]+', '', regex=True)\n",
        "Complete_Reviews.reset_index(drop=True, inplace=True)"
      ],
      "metadata": {
        "id": "4rhOgQ1fM_lC"
      },
      "execution_count": null,
      "outputs": []
    },
    {
      "cell_type": "code",
      "source": [
        "## DistilGPT2 pretrained\n",
        "#New_Reviews = pd.read_csv('/content/drive/MyDrive/results/distilgpt_reviews.csv')\n",
        "## DistilGPT2 finetuned\n",
        "#New_Reviews = pd.read_csv('/content/drive/MyDrive/results/distilgpt_finetuned_reviews.csv')\n",
        "## GRU Reviews\n",
        "#New_Reviews = pd.read_csv('/content/drive/MyDrive/results/GRU_GenReviews (1).csv')\n",
        "## Unigram Reviews\n",
        "#New_Reviews = pd.read_csv('/content/drive/MyDrive/results/unigram_reviews.csv')\n",
        "## Bigram Reviews\n",
        "#New_Reviews = pd.read_csv('/content/drive/MyDrive/results/bigram_reviews.csv')\n",
        "# Trigram Reviews\n",
        "New_Reviews = pd.read_csv('/content/drive/MyDrive/results/trigram_reviews.csv')\n",
        "\n",
        "New_Reviews = New_Reviews.rename(str.lower, axis='columns')\n",
        "\n",
        "# Remove Prompt - DistilGPT2\n",
        "New_Reviews['review'] = New_Reviews['review'].str.replace('^write a movie review:', '', regex=True)\n",
        "# Remove Prompt - GRU\n",
        "New_Reviews['review'] = New_Reviews['review'].str.replace('^and then ', '', regex=True)\n",
        "# Convert reviews to lowercase\n",
        "New_Reviews['review'] = New_Reviews['review'].str.lower()\n",
        "# Replace periods and commas\n",
        "New_Reviews['review'] = New_Reviews['review'].str.replace('[,.]', ' ', regex=True)\n",
        "# Remove newlines\n",
        "New_Reviews['review'] = New_Reviews['review'].str.replace('\\n', '', regex=False)\n",
        "# Remove HTML tags\n",
        "New_Reviews['review'] = New_Reviews['review'].str.replace('<[^>]+>', '', regex=True)\n",
        "# Remove non-alphanumeric characters\n",
        "New_Reviews['review'] = New_Reviews['review'].str.replace('[^A-Za-z0-9 ]+', '', regex=True)\n",
        "\n",
        "fake_reviews = pd.DataFrame({'Review': New_Reviews['review'], 'Label': 'fake'})"
      ],
      "metadata": {
        "id": "woxCV35YNAtz"
      },
      "execution_count": null,
      "outputs": []
    },
    {
      "cell_type": "code",
      "source": [
        "# Randomly select an equal number of real reviews for classification training\n",
        "points = np.random.choice(list(range(Complete_Reviews.shape[0])), size = fake_reviews.shape[0], replace = False)\n",
        "real_reviews = Complete_Reviews['Review'][points]\n",
        "real_reviews = pd.DataFrame({'Review': real_reviews, 'Label': 'real'})"
      ],
      "metadata": {
        "id": "Tlzf8PiTRWuo"
      },
      "execution_count": null,
      "outputs": []
    },
    {
      "cell_type": "code",
      "source": [
        "reviews = pd.concat([real_reviews, fake_reviews]).reset_index(drop=True)\n",
        "reviews = reviews.sample(frac=1, random_state=42).reset_index(drop=True)\n",
        "reviews"
      ],
      "metadata": {
        "colab": {
          "base_uri": "https://localhost:8080/",
          "height": 424
        },
        "id": "Joajh9vmOasd",
        "outputId": "006f9914-1a14-4b40-9c0b-9527ab3ffbe9"
      },
      "execution_count": null,
      "outputs": [
        {
          "output_type": "execute_result",
          "data": {
            "text/plain": [
              "                                                 Review Label\n",
              "0     into callous selfcentered monsters and a few m...  fake\n",
              "1     it was clear right from the beginning that 911...  real\n",
              "2     alan johnson don cheadle is a successful denti...  real\n",
              "3     i saw deadly target in a hotel room in zhuhai ...  real\n",
              "4     this film which i just saw is extremely powerf...  real\n",
              "...                                                 ...   ...\n",
              "9995  deeply distrustful relationship with the filmm...  fake\n",
              "9996  countess title and no point to the bed my chai...  fake\n",
              "9997  share i rate this scifi classic for anyone if ...  fake\n",
              "9998  critters 4 starts   i quote somewhere in kansa...  real\n",
              "9999  psychology etc it is a great sense of humour t...  fake\n",
              "\n",
              "[10000 rows x 2 columns]"
            ],
            "text/html": [
              "\n",
              "  <div id=\"df-2ece66d8-56f6-4483-9988-7acc815951d7\" class=\"colab-df-container\">\n",
              "    <div>\n",
              "<style scoped>\n",
              "    .dataframe tbody tr th:only-of-type {\n",
              "        vertical-align: middle;\n",
              "    }\n",
              "\n",
              "    .dataframe tbody tr th {\n",
              "        vertical-align: top;\n",
              "    }\n",
              "\n",
              "    .dataframe thead th {\n",
              "        text-align: right;\n",
              "    }\n",
              "</style>\n",
              "<table border=\"1\" class=\"dataframe\">\n",
              "  <thead>\n",
              "    <tr style=\"text-align: right;\">\n",
              "      <th></th>\n",
              "      <th>Review</th>\n",
              "      <th>Label</th>\n",
              "    </tr>\n",
              "  </thead>\n",
              "  <tbody>\n",
              "    <tr>\n",
              "      <th>0</th>\n",
              "      <td>into callous selfcentered monsters and a few m...</td>\n",
              "      <td>fake</td>\n",
              "    </tr>\n",
              "    <tr>\n",
              "      <th>1</th>\n",
              "      <td>it was clear right from the beginning that 911...</td>\n",
              "      <td>real</td>\n",
              "    </tr>\n",
              "    <tr>\n",
              "      <th>2</th>\n",
              "      <td>alan johnson don cheadle is a successful denti...</td>\n",
              "      <td>real</td>\n",
              "    </tr>\n",
              "    <tr>\n",
              "      <th>3</th>\n",
              "      <td>i saw deadly target in a hotel room in zhuhai ...</td>\n",
              "      <td>real</td>\n",
              "    </tr>\n",
              "    <tr>\n",
              "      <th>4</th>\n",
              "      <td>this film which i just saw is extremely powerf...</td>\n",
              "      <td>real</td>\n",
              "    </tr>\n",
              "    <tr>\n",
              "      <th>...</th>\n",
              "      <td>...</td>\n",
              "      <td>...</td>\n",
              "    </tr>\n",
              "    <tr>\n",
              "      <th>9995</th>\n",
              "      <td>deeply distrustful relationship with the filmm...</td>\n",
              "      <td>fake</td>\n",
              "    </tr>\n",
              "    <tr>\n",
              "      <th>9996</th>\n",
              "      <td>countess title and no point to the bed my chai...</td>\n",
              "      <td>fake</td>\n",
              "    </tr>\n",
              "    <tr>\n",
              "      <th>9997</th>\n",
              "      <td>share i rate this scifi classic for anyone if ...</td>\n",
              "      <td>fake</td>\n",
              "    </tr>\n",
              "    <tr>\n",
              "      <th>9998</th>\n",
              "      <td>critters 4 starts   i quote somewhere in kansa...</td>\n",
              "      <td>real</td>\n",
              "    </tr>\n",
              "    <tr>\n",
              "      <th>9999</th>\n",
              "      <td>psychology etc it is a great sense of humour t...</td>\n",
              "      <td>fake</td>\n",
              "    </tr>\n",
              "  </tbody>\n",
              "</table>\n",
              "<p>10000 rows × 2 columns</p>\n",
              "</div>\n",
              "    <div class=\"colab-df-buttons\">\n",
              "\n",
              "  <div class=\"colab-df-container\">\n",
              "    <button class=\"colab-df-convert\" onclick=\"convertToInteractive('df-2ece66d8-56f6-4483-9988-7acc815951d7')\"\n",
              "            title=\"Convert this dataframe to an interactive table.\"\n",
              "            style=\"display:none;\">\n",
              "\n",
              "  <svg xmlns=\"http://www.w3.org/2000/svg\" height=\"24px\" viewBox=\"0 -960 960 960\">\n",
              "    <path d=\"M120-120v-720h720v720H120Zm60-500h600v-160H180v160Zm220 220h160v-160H400v160Zm0 220h160v-160H400v160ZM180-400h160v-160H180v160Zm440 0h160v-160H620v160ZM180-180h160v-160H180v160Zm440 0h160v-160H620v160Z\"/>\n",
              "  </svg>\n",
              "    </button>\n",
              "\n",
              "  <style>\n",
              "    .colab-df-container {\n",
              "      display:flex;\n",
              "      gap: 12px;\n",
              "    }\n",
              "\n",
              "    .colab-df-convert {\n",
              "      background-color: #E8F0FE;\n",
              "      border: none;\n",
              "      border-radius: 50%;\n",
              "      cursor: pointer;\n",
              "      display: none;\n",
              "      fill: #1967D2;\n",
              "      height: 32px;\n",
              "      padding: 0 0 0 0;\n",
              "      width: 32px;\n",
              "    }\n",
              "\n",
              "    .colab-df-convert:hover {\n",
              "      background-color: #E2EBFA;\n",
              "      box-shadow: 0px 1px 2px rgba(60, 64, 67, 0.3), 0px 1px 3px 1px rgba(60, 64, 67, 0.15);\n",
              "      fill: #174EA6;\n",
              "    }\n",
              "\n",
              "    .colab-df-buttons div {\n",
              "      margin-bottom: 4px;\n",
              "    }\n",
              "\n",
              "    [theme=dark] .colab-df-convert {\n",
              "      background-color: #3B4455;\n",
              "      fill: #D2E3FC;\n",
              "    }\n",
              "\n",
              "    [theme=dark] .colab-df-convert:hover {\n",
              "      background-color: #434B5C;\n",
              "      box-shadow: 0px 1px 3px 1px rgba(0, 0, 0, 0.15);\n",
              "      filter: drop-shadow(0px 1px 2px rgba(0, 0, 0, 0.3));\n",
              "      fill: #FFFFFF;\n",
              "    }\n",
              "  </style>\n",
              "\n",
              "    <script>\n",
              "      const buttonEl =\n",
              "        document.querySelector('#df-2ece66d8-56f6-4483-9988-7acc815951d7 button.colab-df-convert');\n",
              "      buttonEl.style.display =\n",
              "        google.colab.kernel.accessAllowed ? 'block' : 'none';\n",
              "\n",
              "      async function convertToInteractive(key) {\n",
              "        const element = document.querySelector('#df-2ece66d8-56f6-4483-9988-7acc815951d7');\n",
              "        const dataTable =\n",
              "          await google.colab.kernel.invokeFunction('convertToInteractive',\n",
              "                                                    [key], {});\n",
              "        if (!dataTable) return;\n",
              "\n",
              "        const docLinkHtml = 'Like what you see? Visit the ' +\n",
              "          '<a target=\"_blank\" href=https://colab.research.google.com/notebooks/data_table.ipynb>data table notebook</a>'\n",
              "          + ' to learn more about interactive tables.';\n",
              "        element.innerHTML = '';\n",
              "        dataTable['output_type'] = 'display_data';\n",
              "        await google.colab.output.renderOutput(dataTable, element);\n",
              "        const docLink = document.createElement('div');\n",
              "        docLink.innerHTML = docLinkHtml;\n",
              "        element.appendChild(docLink);\n",
              "      }\n",
              "    </script>\n",
              "  </div>\n",
              "\n",
              "\n",
              "<div id=\"df-ec7827a5-263b-40f8-8e11-e472e8110c3d\">\n",
              "  <button class=\"colab-df-quickchart\" onclick=\"quickchart('df-ec7827a5-263b-40f8-8e11-e472e8110c3d')\"\n",
              "            title=\"Suggest charts\"\n",
              "            style=\"display:none;\">\n",
              "\n",
              "<svg xmlns=\"http://www.w3.org/2000/svg\" height=\"24px\"viewBox=\"0 0 24 24\"\n",
              "     width=\"24px\">\n",
              "    <g>\n",
              "        <path d=\"M19 3H5c-1.1 0-2 .9-2 2v14c0 1.1.9 2 2 2h14c1.1 0 2-.9 2-2V5c0-1.1-.9-2-2-2zM9 17H7v-7h2v7zm4 0h-2V7h2v10zm4 0h-2v-4h2v4z\"/>\n",
              "    </g>\n",
              "</svg>\n",
              "  </button>\n",
              "\n",
              "<style>\n",
              "  .colab-df-quickchart {\n",
              "      --bg-color: #E8F0FE;\n",
              "      --fill-color: #1967D2;\n",
              "      --hover-bg-color: #E2EBFA;\n",
              "      --hover-fill-color: #174EA6;\n",
              "      --disabled-fill-color: #AAA;\n",
              "      --disabled-bg-color: #DDD;\n",
              "  }\n",
              "\n",
              "  [theme=dark] .colab-df-quickchart {\n",
              "      --bg-color: #3B4455;\n",
              "      --fill-color: #D2E3FC;\n",
              "      --hover-bg-color: #434B5C;\n",
              "      --hover-fill-color: #FFFFFF;\n",
              "      --disabled-bg-color: #3B4455;\n",
              "      --disabled-fill-color: #666;\n",
              "  }\n",
              "\n",
              "  .colab-df-quickchart {\n",
              "    background-color: var(--bg-color);\n",
              "    border: none;\n",
              "    border-radius: 50%;\n",
              "    cursor: pointer;\n",
              "    display: none;\n",
              "    fill: var(--fill-color);\n",
              "    height: 32px;\n",
              "    padding: 0;\n",
              "    width: 32px;\n",
              "  }\n",
              "\n",
              "  .colab-df-quickchart:hover {\n",
              "    background-color: var(--hover-bg-color);\n",
              "    box-shadow: 0 1px 2px rgba(60, 64, 67, 0.3), 0 1px 3px 1px rgba(60, 64, 67, 0.15);\n",
              "    fill: var(--button-hover-fill-color);\n",
              "  }\n",
              "\n",
              "  .colab-df-quickchart-complete:disabled,\n",
              "  .colab-df-quickchart-complete:disabled:hover {\n",
              "    background-color: var(--disabled-bg-color);\n",
              "    fill: var(--disabled-fill-color);\n",
              "    box-shadow: none;\n",
              "  }\n",
              "\n",
              "  .colab-df-spinner {\n",
              "    border: 2px solid var(--fill-color);\n",
              "    border-color: transparent;\n",
              "    border-bottom-color: var(--fill-color);\n",
              "    animation:\n",
              "      spin 1s steps(1) infinite;\n",
              "  }\n",
              "\n",
              "  @keyframes spin {\n",
              "    0% {\n",
              "      border-color: transparent;\n",
              "      border-bottom-color: var(--fill-color);\n",
              "      border-left-color: var(--fill-color);\n",
              "    }\n",
              "    20% {\n",
              "      border-color: transparent;\n",
              "      border-left-color: var(--fill-color);\n",
              "      border-top-color: var(--fill-color);\n",
              "    }\n",
              "    30% {\n",
              "      border-color: transparent;\n",
              "      border-left-color: var(--fill-color);\n",
              "      border-top-color: var(--fill-color);\n",
              "      border-right-color: var(--fill-color);\n",
              "    }\n",
              "    40% {\n",
              "      border-color: transparent;\n",
              "      border-right-color: var(--fill-color);\n",
              "      border-top-color: var(--fill-color);\n",
              "    }\n",
              "    60% {\n",
              "      border-color: transparent;\n",
              "      border-right-color: var(--fill-color);\n",
              "    }\n",
              "    80% {\n",
              "      border-color: transparent;\n",
              "      border-right-color: var(--fill-color);\n",
              "      border-bottom-color: var(--fill-color);\n",
              "    }\n",
              "    90% {\n",
              "      border-color: transparent;\n",
              "      border-bottom-color: var(--fill-color);\n",
              "    }\n",
              "  }\n",
              "</style>\n",
              "\n",
              "  <script>\n",
              "    async function quickchart(key) {\n",
              "      const quickchartButtonEl =\n",
              "        document.querySelector('#' + key + ' button');\n",
              "      quickchartButtonEl.disabled = true;  // To prevent multiple clicks.\n",
              "      quickchartButtonEl.classList.add('colab-df-spinner');\n",
              "      try {\n",
              "        const charts = await google.colab.kernel.invokeFunction(\n",
              "            'suggestCharts', [key], {});\n",
              "      } catch (error) {\n",
              "        console.error('Error during call to suggestCharts:', error);\n",
              "      }\n",
              "      quickchartButtonEl.classList.remove('colab-df-spinner');\n",
              "      quickchartButtonEl.classList.add('colab-df-quickchart-complete');\n",
              "    }\n",
              "    (() => {\n",
              "      let quickchartButtonEl =\n",
              "        document.querySelector('#df-ec7827a5-263b-40f8-8e11-e472e8110c3d button');\n",
              "      quickchartButtonEl.style.display =\n",
              "        google.colab.kernel.accessAllowed ? 'block' : 'none';\n",
              "    })();\n",
              "  </script>\n",
              "</div>\n",
              "\n",
              "  <div id=\"id_7224c692-7999-48be-a759-08db32be7625\">\n",
              "    <style>\n",
              "      .colab-df-generate {\n",
              "        background-color: #E8F0FE;\n",
              "        border: none;\n",
              "        border-radius: 50%;\n",
              "        cursor: pointer;\n",
              "        display: none;\n",
              "        fill: #1967D2;\n",
              "        height: 32px;\n",
              "        padding: 0 0 0 0;\n",
              "        width: 32px;\n",
              "      }\n",
              "\n",
              "      .colab-df-generate:hover {\n",
              "        background-color: #E2EBFA;\n",
              "        box-shadow: 0px 1px 2px rgba(60, 64, 67, 0.3), 0px 1px 3px 1px rgba(60, 64, 67, 0.15);\n",
              "        fill: #174EA6;\n",
              "      }\n",
              "\n",
              "      [theme=dark] .colab-df-generate {\n",
              "        background-color: #3B4455;\n",
              "        fill: #D2E3FC;\n",
              "      }\n",
              "\n",
              "      [theme=dark] .colab-df-generate:hover {\n",
              "        background-color: #434B5C;\n",
              "        box-shadow: 0px 1px 3px 1px rgba(0, 0, 0, 0.15);\n",
              "        filter: drop-shadow(0px 1px 2px rgba(0, 0, 0, 0.3));\n",
              "        fill: #FFFFFF;\n",
              "      }\n",
              "    </style>\n",
              "    <button class=\"colab-df-generate\" onclick=\"generateWithVariable('reviews')\"\n",
              "            title=\"Generate code using this dataframe.\"\n",
              "            style=\"display:none;\">\n",
              "\n",
              "  <svg xmlns=\"http://www.w3.org/2000/svg\" height=\"24px\"viewBox=\"0 0 24 24\"\n",
              "       width=\"24px\">\n",
              "    <path d=\"M7,19H8.4L18.45,9,17,7.55,7,17.6ZM5,21V16.75L18.45,3.32a2,2,0,0,1,2.83,0l1.4,1.43a1.91,1.91,0,0,1,.58,1.4,1.91,1.91,0,0,1-.58,1.4L9.25,21ZM18.45,9,17,7.55Zm-12,3A5.31,5.31,0,0,0,4.9,8.1,5.31,5.31,0,0,0,1,6.5,5.31,5.31,0,0,0,4.9,4.9,5.31,5.31,0,0,0,6.5,1,5.31,5.31,0,0,0,8.1,4.9,5.31,5.31,0,0,0,12,6.5,5.46,5.46,0,0,0,6.5,12Z\"/>\n",
              "  </svg>\n",
              "    </button>\n",
              "    <script>\n",
              "      (() => {\n",
              "      const buttonEl =\n",
              "        document.querySelector('#id_7224c692-7999-48be-a759-08db32be7625 button.colab-df-generate');\n",
              "      buttonEl.style.display =\n",
              "        google.colab.kernel.accessAllowed ? 'block' : 'none';\n",
              "\n",
              "      buttonEl.onclick = () => {\n",
              "        google.colab.notebook.generateWithVariable('reviews');\n",
              "      }\n",
              "      })();\n",
              "    </script>\n",
              "  </div>\n",
              "\n",
              "    </div>\n",
              "  </div>\n"
            ]
          },
          "metadata": {},
          "execution_count": 7
        }
      ]
    },
    {
      "cell_type": "code",
      "source": [
        "all_data = reviews['Review']\n",
        "all_labels = reviews['Label']\n",
        "\n",
        "split_point = 0.8\n",
        "X_train, X_test, y_train, y_test = train_test_split(\n",
        "    all_data, all_labels, train_size = split_point)\n",
        "\n",
        "X_train = X_train.reset_index(drop=True)\n",
        "X_test = X_test.reset_index(drop=True)\n",
        "y_train = y_train.reset_index(drop=True)\n",
        "y_test = y_test.reset_index(drop=True)"
      ],
      "metadata": {
        "id": "6l0qeynVSLnX"
      },
      "execution_count": null,
      "outputs": []
    },
    {
      "cell_type": "code",
      "source": [
        "def get_mlp_classifier(train_data, train_labels, **kwargs):\n",
        "  model = make_pipeline(TfidfVectorizer(), MLPClassifier(**kwargs))\n",
        "  model.fit(train_data, train_labels)\n",
        "  return model\n",
        "\n",
        "model = get_mlp_classifier(X_train, y_train, hidden_layer_sizes = (100,), verbose = True)"
      ],
      "metadata": {
        "colab": {
          "base_uri": "https://localhost:8080/"
        },
        "id": "0IOpwfolSmeu",
        "outputId": "f129a216-2f6c-4ab6-f2b8-f0eee609159a"
      },
      "execution_count": null,
      "outputs": [
        {
          "output_type": "stream",
          "name": "stdout",
          "text": [
            "Iteration 1, loss = 0.64296848\n",
            "Iteration 2, loss = 0.48337615\n",
            "Iteration 3, loss = 0.30700357\n",
            "Iteration 4, loss = 0.18418290\n",
            "Iteration 5, loss = 0.11483247\n",
            "Iteration 6, loss = 0.07618263\n",
            "Iteration 7, loss = 0.05361870\n",
            "Iteration 8, loss = 0.03932003\n",
            "Iteration 9, loss = 0.02996322\n",
            "Iteration 10, loss = 0.02370976\n",
            "Iteration 11, loss = 0.01923670\n",
            "Iteration 12, loss = 0.01604104\n",
            "Iteration 13, loss = 0.01364450\n",
            "Iteration 14, loss = 0.01180759\n",
            "Iteration 15, loss = 0.01037429\n",
            "Iteration 16, loss = 0.00924260\n",
            "Iteration 17, loss = 0.00833999\n",
            "Iteration 18, loss = 0.00760103\n",
            "Iteration 19, loss = 0.00698714\n",
            "Iteration 20, loss = 0.00647432\n",
            "Iteration 21, loss = 0.00604230\n",
            "Iteration 22, loss = 0.00567440\n",
            "Iteration 23, loss = 0.00535469\n",
            "Iteration 24, loss = 0.00507950\n",
            "Iteration 25, loss = 0.00484012\n",
            "Iteration 26, loss = 0.00463037\n",
            "Iteration 27, loss = 0.00444306\n",
            "Iteration 28, loss = 0.00427963\n",
            "Iteration 29, loss = 0.00413039\n",
            "Iteration 30, loss = 0.00399599\n",
            "Iteration 31, loss = 0.00387525\n",
            "Iteration 32, loss = 0.00376519\n",
            "Iteration 33, loss = 0.00366525\n",
            "Iteration 34, loss = 0.00357345\n",
            "Iteration 35, loss = 0.00348945\n",
            "Iteration 36, loss = 0.00341174\n",
            "Iteration 37, loss = 0.00333911\n",
            "Iteration 38, loss = 0.00327148\n",
            "Iteration 39, loss = 0.00320882\n",
            "Iteration 40, loss = 0.00314935\n",
            "Iteration 41, loss = 0.00309369\n",
            "Iteration 42, loss = 0.00304108\n",
            "Iteration 43, loss = 0.00299119\n",
            "Training loss did not improve more than tol=0.000100 for 10 consecutive epochs. Stopping.\n"
          ]
        }
      ]
    },
    {
      "cell_type": "code",
      "source": [
        "y_pred = model.predict(X_test)"
      ],
      "metadata": {
        "id": "44_MWNQMSp9c"
      },
      "execution_count": null,
      "outputs": []
    },
    {
      "cell_type": "code",
      "source": [
        "def get_confusion_matrix(test_labels, pred_labels):\n",
        "    sns.set()\n",
        "    mat = confusion_matrix(test_labels, pred_labels)\n",
        "    plt.figure(figsize=(5,5))\n",
        "    sns.heatmap(mat.T, square=True, annot=True, fmt='d', cbar=False)\n",
        "    plt.xlabel('true label')\n",
        "    plt.ylabel('predicted label')\n",
        "\n",
        "get_confusion_matrix(y_test, y_pred)"
      ],
      "metadata": {
        "colab": {
          "base_uri": "https://localhost:8080/",
          "height": 473
        },
        "id": "7ghcWZawSrfV",
        "outputId": "f9942556-bb75-45b6-b243-a0e9d5d5fd52"
      },
      "execution_count": null,
      "outputs": [
        {
          "output_type": "display_data",
          "data": {
            "text/plain": [
              "<Figure size 500x500 with 1 Axes>"
            ],
            "image/png": "[encoded data removed]"
          },
          "metadata": {}
        }
      ]
    },
    {
      "cell_type": "code",
      "source": [
        "def get_f1_scores(test_labels, pred_labels):\n",
        "    f1 = f1_score(test_labels, pred_labels, pos_label = 'real')\n",
        "    print(\"F1 Score:\", round(100*f1, 2), \"%\")\n",
        "\n",
        "get_f1_scores(y_test, y_pred)"
      ],
      "metadata": {
        "colab": {
          "base_uri": "https://localhost:8080/"
        },
        "id": "Eu4TMXk_S8T0",
        "outputId": "c112e920-4f2c-4a83-bb8e-77de374b6692"
      },
      "execution_count": null,
      "outputs": [
        {
          "output_type": "stream",
          "name": "stdout",
          "text": [
            "F1 Score: 89.29 %\n"
          ]
        }
      ]
    },
    {
      "cell_type": "code",
      "source": [
        "model = get_mlp_classifier(X_train, y_train, hidden_layer_sizes = (100, 100), learning_rate = 'adaptive', verbose = True)\n",
        "y_pred = model.predict(X_test)\n",
        "get_confusion_matrix(y_test, y_pred)\n",
        "get_f1_scores(y_test, y_pred)"
      ],
      "metadata": {
        "colab": {
          "base_uri": "https://localhost:8080/",
          "height": 890
        },
        "id": "AEi8IUfKTT6f",
        "outputId": "e5a36f66-e09c-4884-ea1e-168a6f23a547"
      },
      "execution_count": null,
      "outputs": [
        {
          "output_type": "stream",
          "name": "stdout",
          "text": [
            "Iteration 1, loss = 0.63361519\n",
            "Iteration 2, loss = 0.29169283\n",
            "Iteration 3, loss = 0.05981805\n",
            "Iteration 4, loss = 0.01495097\n",
            "Iteration 5, loss = 0.00582621\n",
            "Iteration 6, loss = 0.00307951\n",
            "Iteration 7, loss = 0.00195841\n",
            "Iteration 8, loss = 0.00139327\n",
            "Iteration 9, loss = 0.00107721\n",
            "Iteration 10, loss = 0.00088839\n",
            "Iteration 11, loss = 0.00076775\n",
            "Iteration 12, loss = 0.00068613\n",
            "Iteration 13, loss = 0.00062709\n",
            "Iteration 14, loss = 0.00058088\n",
            "Iteration 15, loss = 0.00054289\n",
            "Iteration 16, loss = 0.00051231\n",
            "Iteration 17, loss = 0.00048872\n",
            "Iteration 18, loss = 0.00047061\n",
            "Iteration 19, loss = 0.00045624\n",
            "Iteration 20, loss = 0.00044456\n",
            "Iteration 21, loss = 0.00043494\n",
            "Iteration 22, loss = 0.00042653\n",
            "Training loss did not improve more than tol=0.000100 for 10 consecutive epochs. Stopping.\n",
            "F1 Score: 88.62 %\n"
          ]
        },
        {
          "output_type": "display_data",
          "data": {
            "text/plain": [
              "<Figure size 500x500 with 1 Axes>"
            ],
            "image/png": "[encoded data removed]"
          },
          "metadata": {}
        }
      ]
    },
    {
      "cell_type": "code",
      "source": [
        "# The embed model is loaded from Google Drive\n",
        "glove2word2vec('/content/drive/MyDrive/results/glove.6B.300d.txt', '/content/drive/MyDrive/results/glove.6B.300d.word2vec.txt')\n",
        "embed_model = KeyedVectors.load_word2vec_format('/content/drive/MyDrive/results/glove.6B.300d.word2vec.txt')"
      ],
      "metadata": {
        "colab": {
          "base_uri": "https://localhost:8080/"
        },
        "id": "ZXsMkTuUTuvQ",
        "outputId": "a942b117-90f1-4b12-a248-c514ebe1b337"
      },
      "execution_count": null,
      "outputs": [
        {
          "output_type": "stream",
          "name": "stderr",
          "text": [
            "<ipython-input-14-06e4a87da033>:2: DeprecationWarning: Call to deprecated `glove2word2vec` (KeyedVectors.load_word2vec_format(.., binary=False, no_header=True) loads GLoVE text vectors.).\n",
            "  glove2word2vec('/content/drive/MyDrive/results/glove.6B.300d.txt', '/content/drive/MyDrive/results/glove.6B.300d.word2vec.txt')\n"
          ]
        }
      ]
    },
    {
      "cell_type": "code",
      "source": [
        "X_train[0]"
      ],
      "metadata": {
        "colab": {
          "base_uri": "https://localhost:8080/",
          "height": 70
        },
        "id": "21FFl1ScqHDx",
        "outputId": "aaaf672b-67a0-4a04-be9a-4f59fa87e6f8"
      },
      "execution_count": null,
      "outputs": [
        {
          "output_type": "execute_result",
          "data": {
            "text/plain": [
              "'i expected this movie to bore me within the first five minutes  but i had an afternoon to kill and there was a rerun of a home improvement show i could watch  i got a pleasant surprise and never did check into ways to repaint the kitchen  i found the plot to be original because of dillons machinations to get another guy the girl  hes not much of a matchmaker  but he seems to sincerely want hi exwife to be happy  the end was predictable  but sciorra and dillon are convincing as angry ex spouses who have gone in different directions and the numerous character actors fill in the occasional boring spots  especially dan hedeya  i like anything he does though  so i am biased '"
            ],
            "application/vnd.google.colaboratory.intrinsic+json": {
              "type": "string"
            }
          },
          "metadata": {},
          "execution_count": 15
        }
      ]
    },
    {
      "cell_type": "code",
      "source": [
        "# The function was edited to use OOV_embed as a global variable instead of a parameter, so the list comprehension can work\n",
        "def calc_doc_embedding(doc, embed_model, embed_size):\n",
        "    global OOV_embed\n",
        "    doc = doc.lower()\n",
        "    stopset = set(stopwords.words('english') + list(string.punctuation))\n",
        "    rwords = doc.split()\n",
        "    rwords = list(set(rwords) - set(stopset))\n",
        "    if(len(rwords)==0):\n",
        "      return np.zeros(len(embed_model.vectors[0]))\n",
        "    missing_words = [rword for rword in rwords if not embed_model.has_index_for(rword)]\n",
        "    present_words = list(set(rwords) - set(missing_words))\n",
        "    for missing_word in missing_words:\n",
        "        if missing_word in OOV_embed:\n",
        "            continue\n",
        "        fill_in = np.random.randint(0, len(embed_model.vectors))\n",
        "        OOV_embed[missing_word] = embed_model.vectors[fill_in]\n",
        "    doc_embed1 = np.sum([embed_model.get_vector(rword) for rword in present_words], axis = 0)\n",
        "    doc_embed2 = np.sum([OOV_embed[rword] for rword in missing_words], axis = 0)\n",
        "    doc_embed = (doc_embed1 + doc_embed2)/len(rwords)\n",
        "    return doc_embed"
      ],
      "metadata": {
        "id": "JxPRw9POUB5k"
      },
      "execution_count": null,
      "outputs": []
    },
    {
      "cell_type": "code",
      "source": [
        "OOV_embed = {}\n",
        "X_train_embed = np.vstack([calc_doc_embedding(doc, embed_model, 100) for doc in X_train])\n",
        "X_test_embed = np.vstack([calc_doc_embedding(doc, embed_model, 100) for doc in X_test])"
      ],
      "metadata": {
        "id": "mhU74X-KUGxm"
      },
      "execution_count": null,
      "outputs": []
    },
    {
      "cell_type": "code",
      "source": [
        "# 4 hidden layers with 400 units each\n",
        "def get_mlp_classifier_embed(train_data_embed, train_labels, **kwargs):\n",
        "  model = MLPClassifier(**kwargs)\n",
        "  model.fit(train_data_embed, train_labels)\n",
        "  return model\n",
        "\n",
        "model = get_mlp_classifier_embed(X_train_embed, y_train, hidden_layer_sizes = (100, 100, 100, 100), learning_rate = 'adaptive', verbose = True)"
      ],
      "metadata": {
        "colab": {
          "base_uri": "https://localhost:8080/"
        },
        "id": "k0v68W-GUJPq",
        "outputId": "9c20ead2-353d-426e-980f-6148cdc17de1"
      },
      "execution_count": null,
      "outputs": [
        {
          "output_type": "stream",
          "name": "stdout",
          "text": [
            "Iteration 1, loss = 0.64552085\n",
            "Iteration 2, loss = 0.46075723\n",
            "Iteration 3, loss = 0.31709984\n",
            "Iteration 4, loss = 0.24659844\n",
            "Iteration 5, loss = 0.18983849\n",
            "Iteration 6, loss = 0.15677270\n",
            "Iteration 7, loss = 0.12999518\n",
            "Iteration 8, loss = 0.09735900\n",
            "Iteration 9, loss = 0.07064221\n",
            "Iteration 10, loss = 0.06152241\n",
            "Iteration 11, loss = 0.03274586\n",
            "Iteration 12, loss = 0.02341761\n",
            "Iteration 13, loss = 0.02805480\n",
            "Iteration 14, loss = 0.01770880\n",
            "Iteration 15, loss = 0.00795496\n",
            "Iteration 16, loss = 0.00440362\n",
            "Iteration 17, loss = 0.00218271\n",
            "Iteration 18, loss = 0.00111674\n",
            "Iteration 19, loss = 0.00079160\n",
            "Iteration 20, loss = 0.00068660\n",
            "Iteration 21, loss = 0.00060910\n",
            "Iteration 22, loss = 0.00054841\n",
            "Iteration 23, loss = 0.00050139\n",
            "Iteration 24, loss = 0.00046206\n",
            "Iteration 25, loss = 0.00042430\n",
            "Iteration 26, loss = 0.00039133\n",
            "Iteration 27, loss = 0.00034841\n",
            "Iteration 28, loss = 0.00030828\n",
            "Iteration 29, loss = 0.00027381\n",
            "Iteration 30, loss = 0.00024710\n",
            "Iteration 31, loss = 0.00022755\n",
            "Training loss did not improve more than tol=0.000100 for 10 consecutive epochs. Stopping.\n"
          ]
        }
      ]
    },
    {
      "cell_type": "code",
      "source": [
        "y_pred = model.predict(X_test_embed)\n",
        "get_confusion_matrix(y_test, y_pred)\n",
        "get_f1_scores(y_test, y_pred)"
      ],
      "metadata": {
        "colab": {
          "base_uri": "https://localhost:8080/",
          "height": 490
        },
        "id": "wSAzAMV5UK20",
        "outputId": "87c3bbbc-3851-48c5-d7c7-1c170203dd83"
      },
      "execution_count": null,
      "outputs": [
        {
          "output_type": "stream",
          "name": "stdout",
          "text": [
            "F1 Score: 88.29 %\n"
          ]
        },
        {
          "output_type": "display_data",
          "data": {
            "text/plain": [
              "<Figure size 500x500 with 1 Axes>"
            ],
            "image/png": "[encoded data removed]"
          },
          "metadata": {}
        }
      ]
    },
    {
      "cell_type": "code",
      "source": [
        "import tensorflow as tf\n",
        "from sklearn.preprocessing import LabelEncoder"
      ],
      "metadata": {
        "id": "aCgEfn1dZcgv"
      },
      "execution_count": null,
      "outputs": []
    },
    {
      "cell_type": "code",
      "source": [
        "le = LabelEncoder().fit(all_labels)\n",
        "y_train_num = le.transform(y_train)\n",
        "y_test_num = le.transform(y_test)"
      ],
      "metadata": {
        "id": "-waHVVMdZdjZ"
      },
      "execution_count": null,
      "outputs": []
    },
    {
      "cell_type": "code",
      "source": [
        "train_tensor = tf.data.Dataset.from_tensor_slices((X_train, y_train_num))\n",
        "\n",
        "test_tensor = tf.data.Dataset.from_tensor_slices((X_test, y_test_num))"
      ],
      "metadata": {
        "id": "uu5qctj2ZXMi"
      },
      "execution_count": null,
      "outputs": []
    },
    {
      "cell_type": "code",
      "source": [
        "BUFFER_SIZE = 10000\n",
        "BATCH_SIZE = 64\n",
        "\n",
        "train_tensor = train_tensor.shuffle(BUFFER_SIZE).batch(BATCH_SIZE).prefetch(tf.data.AUTOTUNE)\n",
        "test_tensor = test_tensor.batch(BATCH_SIZE).prefetch(tf.data.AUTOTUNE)\n",
        "\n",
        "VOCAB_SIZE = 50000\n",
        "encoder = tf.keras.layers.TextVectorization(\n",
        "    max_tokens=VOCAB_SIZE)\n",
        "encoder.adapt(train_tensor.map(lambda text, label: text))"
      ],
      "metadata": {
        "id": "XIovsYicZezM"
      },
      "execution_count": null,
      "outputs": []
    },
    {
      "cell_type": "code",
      "source": [
        "model = tf.keras.Sequential([\n",
        "    encoder,\n",
        "    tf.keras.layers.Embedding(\n",
        "        input_dim=len(encoder.get_vocabulary()),\n",
        "        output_dim=64,\n",
        "        # Use masking to handle the variable sequence lengths\n",
        "        mask_zero=True),\n",
        "    tf.keras.layers.Bidirectional(tf.keras.layers.LSTM(64)),\n",
        "    tf.keras.layers.Dense(64, activation='relu'),\n",
        "    tf.keras.layers.Dense(6, activation='softmax')\n",
        "])\n",
        "\n",
        "model.compile(loss='sparse_categorical_crossentropy',\n",
        "              optimizer=tf.keras.optimizers.Adam(1e-4),\n",
        "              metrics=['accuracy'])"
      ],
      "metadata": {
        "id": "2S3JrT4hZf_m"
      },
      "execution_count": null,
      "outputs": []
    },
    {
      "cell_type": "code",
      "source": [
        "history = model.fit(train_tensor, epochs=10,\n",
        "                    validation_data=test_tensor,\n",
        "                    validation_steps=30)\n",
        "\n",
        "test_loss, test_acc = model.evaluate(test_tensor)\n",
        "\n",
        "print('Test Loss:', test_loss)\n",
        "print('Test Accuracy:', test_acc)"
      ],
      "metadata": {
        "colab": {
          "base_uri": "https://localhost:8080/"
        },
        "id": "cJCQIxshZiEW",
        "outputId": "ca8ffc6e-9b3c-4911-c245-f95ed666c4fe"
      },
      "execution_count": null,
      "outputs": [
        {
          "output_type": "stream",
          "name": "stdout",
          "text": [
            "Epoch 1/10\n",
            "125/125 [==============================] - 246s 2s/step - loss: 1.4147 - accuracy: 0.5235 - val_loss: 0.6868 - val_accuracy: 0.9807\n",
            "Epoch 2/10\n",
            "125/125 [==============================] - 234s 2s/step - loss: 0.3836 - accuracy: 0.9279 - val_loss: 0.1405 - val_accuracy: 0.9745\n",
            "Epoch 3/10\n",
            "125/125 [==============================] - 233s 2s/step - loss: 0.1058 - accuracy: 0.9758 - val_loss: 0.0798 - val_accuracy: 0.9802\n",
            "Epoch 4/10\n",
            "125/125 [==============================] - 271s 2s/step - loss: 0.0637 - accuracy: 0.9834 - val_loss: 0.0768 - val_accuracy: 0.9771\n",
            "Epoch 5/10\n",
            "125/125 [==============================] - 236s 2s/step - loss: 0.0402 - accuracy: 0.9875 - val_loss: 0.0796 - val_accuracy: 0.9755\n",
            "Epoch 6/10\n",
            "125/125 [==============================] - 227s 2s/step - loss: 0.0224 - accuracy: 0.9924 - val_loss: 0.0999 - val_accuracy: 0.9651\n",
            "Epoch 7/10\n",
            "125/125 [==============================] - 232s 2s/step - loss: 0.0138 - accuracy: 0.9955 - val_loss: 0.0711 - val_accuracy: 0.9776\n",
            "Epoch 8/10\n",
            "125/125 [==============================] - 222s 2s/step - loss: 0.0084 - accuracy: 0.9977 - val_loss: 0.1050 - val_accuracy: 0.9661\n",
            "Epoch 9/10\n",
            "125/125 [==============================] - 227s 2s/step - loss: 0.0060 - accuracy: 0.9989 - val_loss: 0.0835 - val_accuracy: 0.9771\n",
            "Epoch 10/10\n",
            "125/125 [==============================] - 223s 2s/step - loss: 0.0042 - accuracy: 0.9994 - val_loss: 0.1051 - val_accuracy: 0.9729\n",
            "32/32 [==============================] - 12s 372ms/step - loss: 0.1074 - accuracy: 0.9720\n",
            "Test Loss: 0.1074277013540268\n",
            "Test Accuracy: 0.972000002861023\n"
          ]
        }
      ]
    },
    {
      "cell_type": "code",
      "source": [
        "y_pred_num = model.predict(test_tensor)\n",
        "y_pred = [le.classes_[np.argmax(x)] for x in y_pred_num]"
      ],
      "metadata": {
        "colab": {
          "base_uri": "https://localhost:8080/"
        },
        "id": "13OOhGcgZkfb",
        "outputId": "eb1a6d06-16ed-44d7-c2bc-64889cfa3da7"
      },
      "execution_count": null,
      "outputs": [
        {
          "output_type": "stream",
          "name": "stdout",
          "text": [
            "32/32 [==============================] - 17s 418ms/step\n"
          ]
        }
      ]
    },
    {
      "cell_type": "code",
      "source": [
        "get_confusion_matrix(y_test, y_pred)\n",
        "get_f1_scores(y_test, y_pred)"
      ],
      "metadata": {
        "colab": {
          "base_uri": "https://localhost:8080/",
          "height": 490
        },
        "id": "PosiI-gcZmg8",
        "outputId": "343088fa-6272-4351-eaa0-3072e409f193"
      },
      "execution_count": null,
      "outputs": [
        {
          "output_type": "stream",
          "name": "stdout",
          "text": [
            "F1 Score: 97.17 %\n"
          ]
        },
        {
          "output_type": "display_data",
          "data": {
            "text/plain": [
              "<Figure size 500x500 with 1 Axes>"
            ],
            "image/png": "[encoded data removed]"
          },
          "metadata": {}
        }
      ]
    }
  ]
}