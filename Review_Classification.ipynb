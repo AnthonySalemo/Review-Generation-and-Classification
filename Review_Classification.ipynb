{
  "nbformat": 4,
  "nbformat_minor": 0,
  "metadata": {
    "colab": {
      "provenance": []
    },
    "kernelspec": {
      "name": "python3",
      "display_name": "Python 3"
    },
    "language_info": {
      "name": "python"
    }
  },
  "cells": [
    {
      "cell_type": "code",
      "execution_count": 1,
      "metadata": {
        "colab": {
          "base_uri": "https://localhost:8080/"
        },
        "id": "CZHlFTDcM5g8",
        "outputId": "89048b96-0be6-460c-e695-7e3a25c3f0f4"
      },
      "outputs": [
        {
          "output_type": "stream",
          "name": "stderr",
          "text": [
            "[nltk_data] Downloading package stopwords to /root/nltk_data...\n",
            "[nltk_data]   Package stopwords is already up-to-date!\n"
          ]
        },
        {
          "output_type": "execute_result",
          "data": {
            "text/plain": [
              "True"
            ]
          },
          "metadata": {},
          "execution_count": 1
        }
      ],
      "source": [
        "import pandas as pd\n",
        "import re\n",
        "import numpy as np\n",
        "from collections import Counter, defaultdict\n",
        "import nltk\n",
        "from nltk.corpus import stopwords\n",
        "from nltk.util import ngrams\n",
        "import os\n",
        "import tensorflow as tf\n",
        "import torch\n",
        "from torch.nn.utils.rnn import pad_sequence\n",
        "from transformers import GPT2Tokenizer, GPT2LMHeadModel, AdamW, get_linear_schedule_with_warmup\n",
        "from torch.utils.data import DataLoader, TensorDataset\n",
        "from sklearn.model_selection import train_test_split\n",
        "from sklearn.pipeline import make_pipeline\n",
        "from sklearn.feature_extraction.text import TfidfVectorizer\n",
        "from sklearn.neural_network import MLPClassifier\n",
        "from sklearn.metrics import confusion_matrix\n",
        "from sklearn.metrics import f1_score\n",
        "import matplotlib.pyplot as plt\n",
        "import seaborn as sns\n",
        "from gensim.scripts.glove2word2vec import glove2word2vec\n",
        "from gensim.models import KeyedVectors\n",
        "import string\n",
        "nltk.download('stopwords')\n"
      ]
    },
    {
      "cell_type": "code",
      "source": [
        "from google.colab import drive\n",
        "drive.mount('/content/drive', force_remount = True)"
      ],
      "metadata": {
        "colab": {
          "base_uri": "https://localhost:8080/"
        },
        "id": "A2BROmhpM7Gr",
        "outputId": "6bb7509e-4e8e-4856-b2ee-5799d63bf7cd"
      },
      "execution_count": 2,
      "outputs": [
        {
          "output_type": "stream",
          "name": "stdout",
          "text": [
            "Mounted at /content/drive\n"
          ]
        }
      ]
    },
    {
      "cell_type": "code",
      "source": [
        "cd drive/MyDrive/"
      ],
      "metadata": {
        "colab": {
          "base_uri": "https://localhost:8080/"
        },
        "id": "hgxDus8jM8OG",
        "outputId": "5cbe70c1-7438-4c21-ed42-de3e0baad08a"
      },
      "execution_count": 3,
      "outputs": [
        {
          "output_type": "stream",
          "name": "stdout",
          "text": [
            "/content/drive/MyDrive\n"
          ]
        }
      ]
    },
    {
      "cell_type": "code",
      "source": [
        "#Acquire the dataset from AllReviews csv file and clean it up to a usable form\n",
        "AllReviews = pd.read_csv('/content/drive/MyDrive/Colab Notebooks/AllReviews.csv')\n",
        "AllReviews = AllReviews.loc[(AllReviews[\"titleType\"] == \"tvMovie\")|(AllReviews[\"titleType\"] == \"movie\")]\n",
        "\n",
        "# Filter relevant columns and remove duplicates\n",
        "Reviews_Genres_Title = AllReviews[[\"Review\", \"genres\"]].drop_duplicates()\n",
        "# Remove rows with missing reviews\n",
        "Reviews_Genres_Title = Reviews_Genres_Title.dropna(subset=[\"Review\"])\n",
        "# Remove rows with undefined genres\n",
        "Reviews_Genres_Title = Reviews_Genres_Title[Reviews_Genres_Title[\"genres\"] != '\\\\N']\n",
        "\n",
        "# Copy for further processing\n",
        "Complete_Reviews = Reviews_Genres_Title.copy()\n",
        "# Convert reviews to lowercase\n",
        "Complete_Reviews['Review'] = Complete_Reviews['Review'].str.lower()\n",
        "# Replace periods and commas\n",
        "Complete_Reviews['Review'] = Complete_Reviews['Review'].str.replace('[,.]', ' ', regex=True)\n",
        "# Remove newlines\n",
        "Complete_Reviews['Review'] = Complete_Reviews['Review'].str.replace('\\n', '', regex=False)\n",
        "# Remove HTML tags\n",
        "Complete_Reviews['Review'] = Complete_Reviews['Review'].str.replace('<[^>]+>', '', regex=True)\n",
        "# Remove non-alphanumeric characters\n",
        "Complete_Reviews['Review'] = Complete_Reviews['Review'].str.replace('[^A-Za-z0-9 ]+', '', regex=True)\n",
        "Complete_Reviews.reset_index(drop=True, inplace=True)"
      ],
      "metadata": {
        "id": "4rhOgQ1fM_lC"
      },
      "execution_count": 4,
      "outputs": []
    },
    {
      "cell_type": "code",
      "source": [
        "# DistilGPT2 pretrained\n",
        "New_Reviews = pd.read_csv('/content/drive/MyDrive/results/distilgpt_reviews.csv')\n",
        "## DistilGPT2 finetuned\n",
        "#New_Reviews = pd.read_csv('/content/drive/MyDrive/results/distilgpt_finetuned_reviews.csv')\n",
        "\n",
        "\n",
        "# Remove Prompt\n",
        "New_Reviews['review'] = New_Reviews['review'].str.replace('^write a movie review:', '', regex=True)\n",
        "# Convert reviews to lowercase\n",
        "New_Reviews['review'] = New_Reviews['review'].str.lower()\n",
        "# Replace periods and commas\n",
        "New_Reviews['review'] = New_Reviews['review'].str.replace('[,.]', ' ', regex=True)\n",
        "# Remove newlines\n",
        "New_Reviews['review'] = New_Reviews['review'].str.replace('\\n', '', regex=False)\n",
        "# Remove HTML tags\n",
        "New_Reviews['review'] = New_Reviews['review'].str.replace('<[^>]+>', '', regex=True)\n",
        "# Remove non-alphanumeric characters\n",
        "New_Reviews['review'] = New_Reviews['review'].str.replace('[^A-Za-z0-9 ]+', '', regex=True)\n",
        "\n",
        "fake_reviews = pd.DataFrame({'Review': New_Reviews['review'], 'Label': 'fake'})"
      ],
      "metadata": {
        "id": "woxCV35YNAtz"
      },
      "execution_count": 5,
      "outputs": []
    },
    {
      "cell_type": "code",
      "source": [
        "# Randomly select an equal number of real reviews for classification training\n",
        "points = np.random.choice(list(range(Complete_Reviews.shape[0])), size = fake_reviews.shape[0], replace = False)\n",
        "real_reviews = Complete_Reviews['Review'][points]\n",
        "real_reviews = pd.DataFrame({'Review': real_reviews, 'Label': 'real'})"
      ],
      "metadata": {
        "id": "Tlzf8PiTRWuo"
      },
      "execution_count": 6,
      "outputs": []
    },
    {
      "cell_type": "code",
      "source": [
        "reviews = pd.concat([real_reviews, fake_reviews]).reset_index(drop=True)\n",
        "reviews = reviews.sample(frac=1, random_state=42).reset_index(drop=True)\n",
        "reviews"
      ],
      "metadata": {
        "colab": {
          "base_uri": "https://localhost:8080/",
          "height": 424
        },
        "id": "Joajh9vmOasd",
        "outputId": "6fc0efff-3b62-4e15-d5e0-fcc955ce38cf"
      },
      "execution_count": 7,
      "outputs": [
        {
          "output_type": "execute_result",
          "data": {
            "text/plain": [
              "                                                 Review Label\n",
              "0      of i that is of to the of who the is of of wh...  fake\n",
              "1     if there is a movie to be called perfect then ...  real\n",
              "2     if you thought herbie trying to kill himself b...  real\n",
              "3     hey guys  i have been looking every where to f...  real\n",
              "4     marisa and regina turn is great performances a...  real\n",
              "...                                                 ...   ...\n",
              "9995   i a to the movie i not this had great  seen m...  fake\n",
              "9996   movie review review spoiler i the movie is of...  fake\n",
              "9997   im to you this is worst ever i what waste tim...  fake\n",
              "9998  connie selleca  whose acting rivals that of al...  real\n",
              "9999   is movie a to movie a film a film some will i...  fake\n",
              "\n",
              "[10000 rows x 2 columns]"
            ],
            "text/html": [
              "\n",
              "  <div id=\"df-e842f171-94e7-4825-bdf6-763e4de28437\" class=\"colab-df-container\">\n",
              "    <div>\n",
              "<style scoped>\n",
              "    .dataframe tbody tr th:only-of-type {\n",
              "        vertical-align: middle;\n",
              "    }\n",
              "\n",
              "    .dataframe tbody tr th {\n",
              "        vertical-align: top;\n",
              "    }\n",
              "\n",
              "    .dataframe thead th {\n",
              "        text-align: right;\n",
              "    }\n",
              "</style>\n",
              "<table border=\"1\" class=\"dataframe\">\n",
              "  <thead>\n",
              "    <tr style=\"text-align: right;\">\n",
              "      <th></th>\n",
              "      <th>Review</th>\n",
              "      <th>Label</th>\n",
              "    </tr>\n",
              "  </thead>\n",
              "  <tbody>\n",
              "    <tr>\n",
              "      <th>0</th>\n",
              "      <td>of i that is of to the of who the is of of wh...</td>\n",
              "      <td>fake</td>\n",
              "    </tr>\n",
              "    <tr>\n",
              "      <th>1</th>\n",
              "      <td>if there is a movie to be called perfect then ...</td>\n",
              "      <td>real</td>\n",
              "    </tr>\n",
              "    <tr>\n",
              "      <th>2</th>\n",
              "      <td>if you thought herbie trying to kill himself b...</td>\n",
              "      <td>real</td>\n",
              "    </tr>\n",
              "    <tr>\n",
              "      <th>3</th>\n",
              "      <td>hey guys  i have been looking every where to f...</td>\n",
              "      <td>real</td>\n",
              "    </tr>\n",
              "    <tr>\n",
              "      <th>4</th>\n",
              "      <td>marisa and regina turn is great performances a...</td>\n",
              "      <td>real</td>\n",
              "    </tr>\n",
              "    <tr>\n",
              "      <th>...</th>\n",
              "      <td>...</td>\n",
              "      <td>...</td>\n",
              "    </tr>\n",
              "    <tr>\n",
              "      <th>9995</th>\n",
              "      <td>i a to the movie i not this had great  seen m...</td>\n",
              "      <td>fake</td>\n",
              "    </tr>\n",
              "    <tr>\n",
              "      <th>9996</th>\n",
              "      <td>movie review review spoiler i the movie is of...</td>\n",
              "      <td>fake</td>\n",
              "    </tr>\n",
              "    <tr>\n",
              "      <th>9997</th>\n",
              "      <td>im to you this is worst ever i what waste tim...</td>\n",
              "      <td>fake</td>\n",
              "    </tr>\n",
              "    <tr>\n",
              "      <th>9998</th>\n",
              "      <td>connie selleca  whose acting rivals that of al...</td>\n",
              "      <td>real</td>\n",
              "    </tr>\n",
              "    <tr>\n",
              "      <th>9999</th>\n",
              "      <td>is movie a to movie a film a film some will i...</td>\n",
              "      <td>fake</td>\n",
              "    </tr>\n",
              "  </tbody>\n",
              "</table>\n",
              "<p>10000 rows × 2 columns</p>\n",
              "</div>\n",
              "    <div class=\"colab-df-buttons\">\n",
              "\n",
              "  <div class=\"colab-df-container\">\n",
              "    <button class=\"colab-df-convert\" onclick=\"convertToInteractive('df-e842f171-94e7-4825-bdf6-763e4de28437')\"\n",
              "            title=\"Convert this dataframe to an interactive table.\"\n",
              "            style=\"display:none;\">\n",
              "\n",
              "  <svg xmlns=\"http://www.w3.org/2000/svg\" height=\"24px\" viewBox=\"0 -960 960 960\">\n",
              "    <path d=\"M120-120v-720h720v720H120Zm60-500h600v-160H180v160Zm220 220h160v-160H400v160Zm0 220h160v-160H400v160ZM180-400h160v-160H180v160Zm440 0h160v-160H620v160ZM180-180h160v-160H180v160Zm440 0h160v-160H620v160Z\"/>\n",
              "  </svg>\n",
              "    </button>\n",
              "\n",
              "  <style>\n",
              "    .colab-df-container {\n",
              "      display:flex;\n",
              "      gap: 12px;\n",
              "    }\n",
              "\n",
              "    .colab-df-convert {\n",
              "      background-color: #E8F0FE;\n",
              "      border: none;\n",
              "      border-radius: 50%;\n",
              "      cursor: pointer;\n",
              "      display: none;\n",
              "      fill: #1967D2;\n",
              "      height: 32px;\n",
              "      padding: 0 0 0 0;\n",
              "      width: 32px;\n",
              "    }\n",
              "\n",
              "    .colab-df-convert:hover {\n",
              "      background-color: #E2EBFA;\n",
              "      box-shadow: 0px 1px 2px rgba(60, 64, 67, 0.3), 0px 1px 3px 1px rgba(60, 64, 67, 0.15);\n",
              "      fill: #174EA6;\n",
              "    }\n",
              "\n",
              "    .colab-df-buttons div {\n",
              "      margin-bottom: 4px;\n",
              "    }\n",
              "\n",
              "    [theme=dark] .colab-df-convert {\n",
              "      background-color: #3B4455;\n",
              "      fill: #D2E3FC;\n",
              "    }\n",
              "\n",
              "    [theme=dark] .colab-df-convert:hover {\n",
              "      background-color: #434B5C;\n",
              "      box-shadow: 0px 1px 3px 1px rgba(0, 0, 0, 0.15);\n",
              "      filter: drop-shadow(0px 1px 2px rgba(0, 0, 0, 0.3));\n",
              "      fill: #FFFFFF;\n",
              "    }\n",
              "  </style>\n",
              "\n",
              "    <script>\n",
              "      const buttonEl =\n",
              "        document.querySelector('#df-e842f171-94e7-4825-bdf6-763e4de28437 button.colab-df-convert');\n",
              "      buttonEl.style.display =\n",
              "        google.colab.kernel.accessAllowed ? 'block' : 'none';\n",
              "\n",
              "      async function convertToInteractive(key) {\n",
              "        const element = document.querySelector('#df-e842f171-94e7-4825-bdf6-763e4de28437');\n",
              "        const dataTable =\n",
              "          await google.colab.kernel.invokeFunction('convertToInteractive',\n",
              "                                                    [key], {});\n",
              "        if (!dataTable) return;\n",
              "\n",
              "        const docLinkHtml = 'Like what you see? Visit the ' +\n",
              "          '<a target=\"_blank\" href=https://colab.research.google.com/notebooks/data_table.ipynb>data table notebook</a>'\n",
              "          + ' to learn more about interactive tables.';\n",
              "        element.innerHTML = '';\n",
              "        dataTable['output_type'] = 'display_data';\n",
              "        await google.colab.output.renderOutput(dataTable, element);\n",
              "        const docLink = document.createElement('div');\n",
              "        docLink.innerHTML = docLinkHtml;\n",
              "        element.appendChild(docLink);\n",
              "      }\n",
              "    </script>\n",
              "  </div>\n",
              "\n",
              "\n",
              "<div id=\"df-148dc6e2-2037-428f-9ebb-7f003a939a51\">\n",
              "  <button class=\"colab-df-quickchart\" onclick=\"quickchart('df-148dc6e2-2037-428f-9ebb-7f003a939a51')\"\n",
              "            title=\"Suggest charts\"\n",
              "            style=\"display:none;\">\n",
              "\n",
              "<svg xmlns=\"http://www.w3.org/2000/svg\" height=\"24px\"viewBox=\"0 0 24 24\"\n",
              "     width=\"24px\">\n",
              "    <g>\n",
              "        <path d=\"M19 3H5c-1.1 0-2 .9-2 2v14c0 1.1.9 2 2 2h14c1.1 0 2-.9 2-2V5c0-1.1-.9-2-2-2zM9 17H7v-7h2v7zm4 0h-2V7h2v10zm4 0h-2v-4h2v4z\"/>\n",
              "    </g>\n",
              "</svg>\n",
              "  </button>\n",
              "\n",
              "<style>\n",
              "  .colab-df-quickchart {\n",
              "      --bg-color: #E8F0FE;\n",
              "      --fill-color: #1967D2;\n",
              "      --hover-bg-color: #E2EBFA;\n",
              "      --hover-fill-color: #174EA6;\n",
              "      --disabled-fill-color: #AAA;\n",
              "      --disabled-bg-color: #DDD;\n",
              "  }\n",
              "\n",
              "  [theme=dark] .colab-df-quickchart {\n",
              "      --bg-color: #3B4455;\n",
              "      --fill-color: #D2E3FC;\n",
              "      --hover-bg-color: #434B5C;\n",
              "      --hover-fill-color: #FFFFFF;\n",
              "      --disabled-bg-color: #3B4455;\n",
              "      --disabled-fill-color: #666;\n",
              "  }\n",
              "\n",
              "  .colab-df-quickchart {\n",
              "    background-color: var(--bg-color);\n",
              "    border: none;\n",
              "    border-radius: 50%;\n",
              "    cursor: pointer;\n",
              "    display: none;\n",
              "    fill: var(--fill-color);\n",
              "    height: 32px;\n",
              "    padding: 0;\n",
              "    width: 32px;\n",
              "  }\n",
              "\n",
              "  .colab-df-quickchart:hover {\n",
              "    background-color: var(--hover-bg-color);\n",
              "    box-shadow: 0 1px 2px rgba(60, 64, 67, 0.3), 0 1px 3px 1px rgba(60, 64, 67, 0.15);\n",
              "    fill: var(--button-hover-fill-color);\n",
              "  }\n",
              "\n",
              "  .colab-df-quickchart-complete:disabled,\n",
              "  .colab-df-quickchart-complete:disabled:hover {\n",
              "    background-color: var(--disabled-bg-color);\n",
              "    fill: var(--disabled-fill-color);\n",
              "    box-shadow: none;\n",
              "  }\n",
              "\n",
              "  .colab-df-spinner {\n",
              "    border: 2px solid var(--fill-color);\n",
              "    border-color: transparent;\n",
              "    border-bottom-color: var(--fill-color);\n",
              "    animation:\n",
              "      spin 1s steps(1) infinite;\n",
              "  }\n",
              "\n",
              "  @keyframes spin {\n",
              "    0% {\n",
              "      border-color: transparent;\n",
              "      border-bottom-color: var(--fill-color);\n",
              "      border-left-color: var(--fill-color);\n",
              "    }\n",
              "    20% {\n",
              "      border-color: transparent;\n",
              "      border-left-color: var(--fill-color);\n",
              "      border-top-color: var(--fill-color);\n",
              "    }\n",
              "    30% {\n",
              "      border-color: transparent;\n",
              "      border-left-color: var(--fill-color);\n",
              "      border-top-color: var(--fill-color);\n",
              "      border-right-color: var(--fill-color);\n",
              "    }\n",
              "    40% {\n",
              "      border-color: transparent;\n",
              "      border-right-color: var(--fill-color);\n",
              "      border-top-color: var(--fill-color);\n",
              "    }\n",
              "    60% {\n",
              "      border-color: transparent;\n",
              "      border-right-color: var(--fill-color);\n",
              "    }\n",
              "    80% {\n",
              "      border-color: transparent;\n",
              "      border-right-color: var(--fill-color);\n",
              "      border-bottom-color: var(--fill-color);\n",
              "    }\n",
              "    90% {\n",
              "      border-color: transparent;\n",
              "      border-bottom-color: var(--fill-color);\n",
              "    }\n",
              "  }\n",
              "</style>\n",
              "\n",
              "  <script>\n",
              "    async function quickchart(key) {\n",
              "      const quickchartButtonEl =\n",
              "        document.querySelector('#' + key + ' button');\n",
              "      quickchartButtonEl.disabled = true;  // To prevent multiple clicks.\n",
              "      quickchartButtonEl.classList.add('colab-df-spinner');\n",
              "      try {\n",
              "        const charts = await google.colab.kernel.invokeFunction(\n",
              "            'suggestCharts', [key], {});\n",
              "      } catch (error) {\n",
              "        console.error('Error during call to suggestCharts:', error);\n",
              "      }\n",
              "      quickchartButtonEl.classList.remove('colab-df-spinner');\n",
              "      quickchartButtonEl.classList.add('colab-df-quickchart-complete');\n",
              "    }\n",
              "    (() => {\n",
              "      let quickchartButtonEl =\n",
              "        document.querySelector('#df-148dc6e2-2037-428f-9ebb-7f003a939a51 button');\n",
              "      quickchartButtonEl.style.display =\n",
              "        google.colab.kernel.accessAllowed ? 'block' : 'none';\n",
              "    })();\n",
              "  </script>\n",
              "</div>\n",
              "\n",
              "  <div id=\"id_1144e6a9-6a52-4e34-9802-397e9d29e08b\">\n",
              "    <style>\n",
              "      .colab-df-generate {\n",
              "        background-color: #E8F0FE;\n",
              "        border: none;\n",
              "        border-radius: 50%;\n",
              "        cursor: pointer;\n",
              "        display: none;\n",
              "        fill: #1967D2;\n",
              "        height: 32px;\n",
              "        padding: 0 0 0 0;\n",
              "        width: 32px;\n",
              "      }\n",
              "\n",
              "      .colab-df-generate:hover {\n",
              "        background-color: #E2EBFA;\n",
              "        box-shadow: 0px 1px 2px rgba(60, 64, 67, 0.3), 0px 1px 3px 1px rgba(60, 64, 67, 0.15);\n",
              "        fill: #174EA6;\n",
              "      }\n",
              "\n",
              "      [theme=dark] .colab-df-generate {\n",
              "        background-color: #3B4455;\n",
              "        fill: #D2E3FC;\n",
              "      }\n",
              "\n",
              "      [theme=dark] .colab-df-generate:hover {\n",
              "        background-color: #434B5C;\n",
              "        box-shadow: 0px 1px 3px 1px rgba(0, 0, 0, 0.15);\n",
              "        filter: drop-shadow(0px 1px 2px rgba(0, 0, 0, 0.3));\n",
              "        fill: #FFFFFF;\n",
              "      }\n",
              "    </style>\n",
              "    <button class=\"colab-df-generate\" onclick=\"generateWithVariable('reviews')\"\n",
              "            title=\"Generate code using this dataframe.\"\n",
              "            style=\"display:none;\">\n",
              "\n",
              "  <svg xmlns=\"http://www.w3.org/2000/svg\" height=\"24px\"viewBox=\"0 0 24 24\"\n",
              "       width=\"24px\">\n",
              "    <path d=\"M7,19H8.4L18.45,9,17,7.55,7,17.6ZM5,21V16.75L18.45,3.32a2,2,0,0,1,2.83,0l1.4,1.43a1.91,1.91,0,0,1,.58,1.4,1.91,1.91,0,0,1-.58,1.4L9.25,21ZM18.45,9,17,7.55Zm-12,3A5.31,5.31,0,0,0,4.9,8.1,5.31,5.31,0,0,0,1,6.5,5.31,5.31,0,0,0,4.9,4.9,5.31,5.31,0,0,0,6.5,1,5.31,5.31,0,0,0,8.1,4.9,5.31,5.31,0,0,0,12,6.5,5.46,5.46,0,0,0,6.5,12Z\"/>\n",
              "  </svg>\n",
              "    </button>\n",
              "    <script>\n",
              "      (() => {\n",
              "      const buttonEl =\n",
              "        document.querySelector('#id_1144e6a9-6a52-4e34-9802-397e9d29e08b button.colab-df-generate');\n",
              "      buttonEl.style.display =\n",
              "        google.colab.kernel.accessAllowed ? 'block' : 'none';\n",
              "\n",
              "      buttonEl.onclick = () => {\n",
              "        google.colab.notebook.generateWithVariable('reviews');\n",
              "      }\n",
              "      })();\n",
              "    </script>\n",
              "  </div>\n",
              "\n",
              "    </div>\n",
              "  </div>\n"
            ]
          },
          "metadata": {},
          "execution_count": 7
        }
      ]
    },
    {
      "cell_type": "code",
      "source": [
        "all_data = reviews['Review']\n",
        "all_labels = reviews['Label']\n",
        "\n",
        "split_point = 0.8\n",
        "X_train, X_test, y_train, y_test = train_test_split(\n",
        "    all_data, all_labels, train_size = split_point)\n",
        "\n",
        "X_train = X_train.reset_index(drop=True)\n",
        "X_test = X_test.reset_index(drop=True)\n",
        "y_train = y_train.reset_index(drop=True)\n",
        "y_test = y_test.reset_index(drop=True)"
      ],
      "metadata": {
        "id": "6l0qeynVSLnX"
      },
      "execution_count": 8,
      "outputs": []
    },
    {
      "cell_type": "code",
      "source": [
        "def get_mlp_classifier(train_data, train_labels, **kwargs):\n",
        "  model = make_pipeline(TfidfVectorizer(), MLPClassifier(**kwargs))\n",
        "  model.fit(train_data, train_labels)\n",
        "  return model\n",
        "\n",
        "model = get_mlp_classifier(X_train, y_train, hidden_layer_sizes = (100,), verbose = True)"
      ],
      "metadata": {
        "colab": {
          "base_uri": "https://localhost:8080/"
        },
        "id": "0IOpwfolSmeu",
        "outputId": "bd4aab07-6fa1-411a-fbdf-e7017747ede0"
      },
      "execution_count": 9,
      "outputs": [
        {
          "output_type": "stream",
          "name": "stdout",
          "text": [
            "Iteration 1, loss = 0.49244711\n",
            "Iteration 2, loss = 0.16930367\n",
            "Iteration 3, loss = 0.06086841\n",
            "Iteration 4, loss = 0.03025424\n",
            "Iteration 5, loss = 0.01860323\n",
            "Iteration 6, loss = 0.01282389\n",
            "Iteration 7, loss = 0.00953509\n",
            "Iteration 8, loss = 0.00742754\n",
            "Iteration 9, loss = 0.00602450\n",
            "Iteration 10, loss = 0.00501826\n",
            "Iteration 11, loss = 0.00429153\n",
            "Iteration 12, loss = 0.00373525\n",
            "Iteration 13, loss = 0.00330694\n",
            "Iteration 14, loss = 0.00297080\n",
            "Iteration 15, loss = 0.00269402\n",
            "Iteration 16, loss = 0.00247275\n",
            "Iteration 17, loss = 0.00228663\n",
            "Iteration 18, loss = 0.00213169\n",
            "Iteration 19, loss = 0.00199932\n",
            "Iteration 20, loss = 0.00188588\n",
            "Iteration 21, loss = 0.00179006\n",
            "Iteration 22, loss = 0.00170355\n",
            "Iteration 23, loss = 0.00162928\n",
            "Iteration 24, loss = 0.00156343\n",
            "Iteration 25, loss = 0.00150378\n",
            "Iteration 26, loss = 0.00145035\n",
            "Iteration 27, loss = 0.00140297\n",
            "Iteration 28, loss = 0.00135921\n",
            "Iteration 29, loss = 0.00131963\n",
            "Iteration 30, loss = 0.00128376\n",
            "Iteration 31, loss = 0.00124982\n",
            "Training loss did not improve more than tol=0.000100 for 10 consecutive epochs. Stopping.\n"
          ]
        }
      ]
    },
    {
      "cell_type": "code",
      "source": [
        "y_pred = model.predict(X_test)"
      ],
      "metadata": {
        "id": "44_MWNQMSp9c"
      },
      "execution_count": 10,
      "outputs": []
    },
    {
      "cell_type": "code",
      "source": [
        "def get_confusion_matrix(test_labels, pred_labels):\n",
        "    sns.set()\n",
        "    mat = confusion_matrix(test_labels, pred_labels)\n",
        "    plt.figure(figsize=(5,5))\n",
        "    sns.heatmap(mat.T, square=True, annot=True, fmt='d', cbar=False)\n",
        "    plt.xlabel('true label')\n",
        "    plt.ylabel('predicted label')\n",
        "\n",
        "get_confusion_matrix(y_test, y_pred)"
      ],
      "metadata": {
        "colab": {
          "base_uri": "https://localhost:8080/",
          "height": 473
        },
        "id": "7ghcWZawSrfV",
        "outputId": "de0de1ba-0de9-4e1f-b694-f4acabfc1c93"
      },
      "execution_count": 11,
      "outputs": [
        {
          "output_type": "display_data",
          "data": {
            "text/plain": [
              "<Figure size 500x500 with 1 Axes>"
            ],
            "image/png": "[encoded data removed]"
          },
          "metadata": {}
        }
      ]
    },
    {
      "cell_type": "code",
      "source": [
        "def get_f1_scores(test_labels, pred_labels):\n",
        "    f1 = f1_score(test_labels, pred_labels, pos_label = 'real')\n",
        "    print(\"F1 Score:\", round(100*f1, 2), \"%\")\n",
        "\n",
        "get_f1_scores(y_test, y_pred)"
      ],
      "metadata": {
        "colab": {
          "base_uri": "https://localhost:8080/"
        },
        "id": "Eu4TMXk_S8T0",
        "outputId": "cca624e2-e098-4d49-cd4e-ff84ab897252"
      },
      "execution_count": 12,
      "outputs": [
        {
          "output_type": "stream",
          "name": "stdout",
          "text": [
            "F1 Score: 99.95 %\n"
          ]
        }
      ]
    },
    {
      "cell_type": "code",
      "source": [
        "model = get_mlp_classifier(X_train, y_train, hidden_layer_sizes = (100, 100), learning_rate = 'adaptive', verbose = True)\n",
        "y_pred = model.predict(X_test)\n",
        "get_confusion_matrix(y_test, y_pred)\n",
        "get_f1_scores(y_test, y_pred)"
      ],
      "metadata": {
        "id": "AEi8IUfKTT6f"
      },
      "execution_count": null,
      "outputs": []
    },
    {
      "cell_type": "code",
      "source": [
        "# The embed model is loaded from Google Drive\n",
        "glove2word2vec('/content/drive/MyDrive/results/glove.6B.300d.txt', '/content/drive/MyDrive/results/glove.6B.300d.word2vec.txt')\n",
        "embed_model = KeyedVectors.load_word2vec_format('/content/drive/MyDrive/results/glove.6B.300d.word2vec.txt')"
      ],
      "metadata": {
        "colab": {
          "base_uri": "https://localhost:8080/"
        },
        "id": "ZXsMkTuUTuvQ",
        "outputId": "79c6e11c-03b4-41e0-f1a4-1a272fe434e6"
      },
      "execution_count": 14,
      "outputs": [
        {
          "output_type": "stream",
          "name": "stderr",
          "text": [
            "<ipython-input-14-06e4a87da033>:2: DeprecationWarning: Call to deprecated `glove2word2vec` (KeyedVectors.load_word2vec_format(.., binary=False, no_header=True) loads GLoVE text vectors.).\n",
            "  glove2word2vec('/content/drive/MyDrive/results/glove.6B.300d.txt', '/content/drive/MyDrive/results/glove.6B.300d.word2vec.txt')\n"
          ]
        }
      ]
    },
    {
      "cell_type": "code",
      "source": [
        "# The function was edited to use OOV_embed as a global variable instead of a parameter, so the list comprehension can work\n",
        "def calc_doc_embedding(doc, embed_model, embed_size):\n",
        "    global OOV_embed\n",
        "    doc = doc.lower()\n",
        "    stopset = set(stopwords.words('english') + list(string.punctuation))\n",
        "    rwords = doc.split()\n",
        "    rwords = list(set(rwords) - set(stopset))\n",
        "    missing_words = [rword for rword in rwords if not embed_model.has_index_for(rword)]\n",
        "    present_words = list(set(rwords) - set(missing_words))\n",
        "    for missing_word in missing_words:\n",
        "        if missing_word in OOV_embed:\n",
        "            continue\n",
        "        fill_in = np.random.randint(0, len(embed_model.vectors))\n",
        "        OOV_embed[missing_word] = embed_model.vectors[fill_in]\n",
        "    doc_embed1 = np.sum([embed_model.get_vector(rword) for rword in present_words], axis = 0)\n",
        "    doc_embed2 = np.sum([OOV_embed[rword] for rword in missing_words], axis = 0)\n",
        "    doc_embed = (doc_embed1 + doc_embed2)/len(rwords)\n",
        "    return doc_embed"
      ],
      "metadata": {
        "id": "JxPRw9POUB5k"
      },
      "execution_count": 15,
      "outputs": []
    },
    {
      "cell_type": "code",
      "source": [
        "OOV_embed = {}\n",
        "X_train_embed = np.vstack([calc_doc_embedding(doc, embed_model, 100) for doc in X_train])\n",
        "X_test_embed = np.vstack([calc_doc_embedding(doc, embed_model, 100) for doc in X_test])"
      ],
      "metadata": {
        "id": "mhU74X-KUGxm"
      },
      "execution_count": 16,
      "outputs": []
    },
    {
      "cell_type": "code",
      "source": [
        "# 4 hidden layers with 400 units each\n",
        "def get_mlp_classifier_embed(train_data_embed, train_labels, **kwargs):\n",
        "  model = MLPClassifier(**kwargs)\n",
        "  model.fit(train_data_embed, train_labels)\n",
        "  return model\n",
        "\n",
        "model = get_mlp_classifier_embed(X_train_embed, y_train, hidden_layer_sizes = (100, 100, 100, 100), learning_rate = 'adaptive', verbose = True)"
      ],
      "metadata": {
        "colab": {
          "base_uri": "https://localhost:8080/"
        },
        "id": "k0v68W-GUJPq",
        "outputId": "58814191-8bbd-4773-ea97-7bae5fd12232"
      },
      "execution_count": 19,
      "outputs": [
        {
          "output_type": "stream",
          "name": "stdout",
          "text": [
            "Iteration 1, loss = 0.30557047\n",
            "Iteration 2, loss = 0.04631316\n",
            "Iteration 3, loss = 0.02196400\n",
            "Iteration 4, loss = 0.01573241\n",
            "Iteration 5, loss = 0.01015894\n",
            "Iteration 6, loss = 0.00531620\n",
            "Iteration 7, loss = 0.00307667\n",
            "Iteration 8, loss = 0.00179192\n",
            "Iteration 9, loss = 0.00102025\n",
            "Iteration 10, loss = 0.00084067\n",
            "Iteration 11, loss = 0.00056188\n",
            "Iteration 12, loss = 0.00036652\n",
            "Iteration 13, loss = 0.00035374\n",
            "Iteration 14, loss = 0.00025281\n",
            "Iteration 15, loss = 0.00023402\n",
            "Iteration 16, loss = 0.00019840\n",
            "Iteration 17, loss = 0.00017493\n",
            "Iteration 18, loss = 0.00015964\n",
            "Iteration 19, loss = 0.00015014\n",
            "Iteration 20, loss = 0.00013919\n",
            "Iteration 21, loss = 0.00013300\n",
            "Iteration 22, loss = 0.00012839\n",
            "Iteration 23, loss = 0.00012461\n",
            "Iteration 24, loss = 0.00012209\n",
            "Iteration 25, loss = 0.00011996\n",
            "Training loss did not improve more than tol=0.000100 for 10 consecutive epochs. Stopping.\n"
          ]
        }
      ]
    },
    {
      "cell_type": "code",
      "source": [
        "y_pred = model.predict(X_test_embed)\n",
        "get_confusion_matrix(y_test, y_pred)\n",
        "get_f1_scores(y_test, y_pred)"
      ],
      "metadata": {
        "colab": {
          "base_uri": "https://localhost:8080/",
          "height": 490
        },
        "id": "wSAzAMV5UK20",
        "outputId": "de779e74-90ce-471b-99bb-b79eab7f1500"
      },
      "execution_count": 20,
      "outputs": [
        {
          "output_type": "stream",
          "name": "stdout",
          "text": [
            "F1 Score: 99.19 %\n"
          ]
        },
        {
          "output_type": "display_data",
          "data": {
            "text/plain": [
              "<Figure size 500x500 with 1 Axes>"
            ],
            "image/png": "[encoded data removed]"
          },
          "metadata": {}
        }
      ]
    },
    {
      "cell_type": "code",
      "source": [
        "import tensorflow as tf\n",
        "from sklearn.preprocessing import LabelEncoder"
      ],
      "metadata": {
        "id": "aCgEfn1dZcgv"
      },
      "execution_count": 21,
      "outputs": []
    },
    {
      "cell_type": "code",
      "source": [
        "le = LabelEncoder().fit(all_labels)\n",
        "y_train_num = le.transform(y_train)\n",
        "y_test_num = le.transform(y_test)"
      ],
      "metadata": {
        "id": "-waHVVMdZdjZ"
      },
      "execution_count": 22,
      "outputs": []
    },
    {
      "cell_type": "code",
      "source": [
        "train_tensor = tf.data.Dataset.from_tensor_slices((X_train, y_train_num))\n",
        "\n",
        "test_tensor = tf.data.Dataset.from_tensor_slices((X_test, y_test_num))"
      ],
      "metadata": {
        "id": "uu5qctj2ZXMi"
      },
      "execution_count": 23,
      "outputs": []
    },
    {
      "cell_type": "code",
      "source": [
        "BUFFER_SIZE = 10000\n",
        "BATCH_SIZE = 64\n",
        "\n",
        "train_tensor = train_tensor.shuffle(BUFFER_SIZE).batch(BATCH_SIZE).prefetch(tf.data.AUTOTUNE)\n",
        "test_tensor = test_tensor.batch(BATCH_SIZE).prefetch(tf.data.AUTOTUNE)\n",
        "\n",
        "VOCAB_SIZE = 50000\n",
        "encoder = tf.keras.layers.TextVectorization(\n",
        "    max_tokens=VOCAB_SIZE)\n",
        "encoder.adapt(train_tensor.map(lambda text, label: text))"
      ],
      "metadata": {
        "id": "XIovsYicZezM"
      },
      "execution_count": 24,
      "outputs": []
    },
    {
      "cell_type": "code",
      "source": [
        "model = tf.keras.Sequential([\n",
        "    encoder,\n",
        "    tf.keras.layers.Embedding(\n",
        "        input_dim=len(encoder.get_vocabulary()),\n",
        "        output_dim=64,\n",
        "        # Use masking to handle the variable sequence lengths\n",
        "        mask_zero=True),\n",
        "    tf.keras.layers.Bidirectional(tf.keras.layers.LSTM(64)),\n",
        "    tf.keras.layers.Dense(64, activation='relu'),\n",
        "    tf.keras.layers.Dense(1, activation='sigmoid')\n",
        "])\n",
        "\n",
        "model.compile(loss='sparse_categorical_crossentropy',\n",
        "              optimizer=tf.keras.optimizers.Adam(1e-4),\n",
        "              metrics=['accuracy'])"
      ],
      "metadata": {
        "id": "2S3JrT4hZf_m"
      },
      "execution_count": 25,
      "outputs": []
    },
    {
      "cell_type": "code",
      "source": [
        "history = model.fit(train_tensor, epochs=10,\n",
        "                    validation_data=test_tensor,\n",
        "                    validation_steps=30)\n",
        "\n",
        "test_loss, test_acc = model.evaluate(test_tensor)\n",
        "\n",
        "print('Test Loss:', test_loss)\n",
        "print('Test Accuracy:', test_acc)"
      ],
      "metadata": {
        "colab": {
          "base_uri": "https://localhost:8080/"
        },
        "id": "cJCQIxshZiEW",
        "outputId": "9753dd62-9685-4995-ac79-5d02539e20ae"
      },
      "execution_count": 26,
      "outputs": [
        {
          "output_type": "stream",
          "name": "stdout",
          "text": [
            "Epoch 1/10\n",
            "125/125 [==============================] - 262s 2s/step - loss: 1.3783 - accuracy: 0.5585 - val_loss: 0.6841 - val_accuracy: 0.6354\n",
            "Epoch 2/10\n",
            "125/125 [==============================] - 227s 2s/step - loss: 0.5112 - accuracy: 0.8185 - val_loss: 0.1520 - val_accuracy: 0.9776\n",
            "Epoch 3/10\n",
            "125/125 [==============================] - 227s 2s/step - loss: 0.3294 - accuracy: 0.8584 - val_loss: 0.1015 - val_accuracy: 0.9870\n",
            "Epoch 4/10\n",
            "125/125 [==============================] - 226s 2s/step - loss: 0.0596 - accuracy: 0.9915 - val_loss: 0.0360 - val_accuracy: 0.9948\n",
            "Epoch 5/10\n",
            "125/125 [==============================] - 238s 2s/step - loss: 0.0348 - accuracy: 0.9930 - val_loss: 0.0268 - val_accuracy: 0.9958\n",
            "Epoch 6/10\n",
            "125/125 [==============================] - 224s 2s/step - loss: 0.0204 - accuracy: 0.9954 - val_loss: 0.0276 - val_accuracy: 0.9896\n",
            "Epoch 7/10\n",
            "125/125 [==============================] - 229s 2s/step - loss: 0.0133 - accuracy: 0.9977 - val_loss: 0.0185 - val_accuracy: 0.9958\n",
            "Epoch 8/10\n",
            "125/125 [==============================] - 221s 2s/step - loss: 0.0108 - accuracy: 0.9971 - val_loss: 0.0163 - val_accuracy: 0.9964\n",
            "Epoch 9/10\n",
            "125/125 [==============================] - 220s 2s/step - loss: 0.0087 - accuracy: 0.9983 - val_loss: 0.0163 - val_accuracy: 0.9943\n",
            "Epoch 10/10\n",
            "125/125 [==============================] - 216s 2s/step - loss: 0.0122 - accuracy: 0.9979 - val_loss: 0.0294 - val_accuracy: 0.9927\n",
            "32/32 [==============================] - 10s 321ms/step - loss: 0.0287 - accuracy: 0.9930\n",
            "Test Loss: 0.02868685871362686\n",
            "Test Accuracy: 0.9929999709129333\n"
          ]
        }
      ]
    },
    {
      "cell_type": "code",
      "source": [
        "y_pred_num = model.predict(test_tensor)\n",
        "y_pred = [le.classes_[np.argmax(x)] for x in y_pred_num]"
      ],
      "metadata": {
        "colab": {
          "base_uri": "https://localhost:8080/"
        },
        "id": "13OOhGcgZkfb",
        "outputId": "416b66b5-4785-4e50-b517-0a047ceea9ad"
      },
      "execution_count": 27,
      "outputs": [
        {
          "output_type": "stream",
          "name": "stdout",
          "text": [
            "32/32 [==============================] - 15s 324ms/step\n"
          ]
        }
      ]
    },
    {
      "cell_type": "code",
      "source": [
        "get_confusion_matrix(y_test, y_pred)\n",
        "get_f1_scores(y_test, y_pred)"
      ],
      "metadata": {
        "colab": {
          "base_uri": "https://localhost:8080/",
          "height": 490
        },
        "id": "PosiI-gcZmg8",
        "outputId": "9d3fd070-fbc3-4192-ea7d-d33feb909abb"
      },
      "execution_count": 28,
      "outputs": [
        {
          "output_type": "stream",
          "name": "stdout",
          "text": [
            "F1 Score: 99.29 %\n"
          ]
        },
        {
          "output_type": "display_data",
          "data": {
            "text/plain": [
              "<Figure size 500x500 with 1 Axes>"
            ],
            "image/png": "[encoded data removed]"
          },
          "metadata": {}
        }
      ]
    }
  ]
}
